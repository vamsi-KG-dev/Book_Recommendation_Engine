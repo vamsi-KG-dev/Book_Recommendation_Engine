{
 "cells": [
  {
   "cell_type": "code",
   "execution_count": 1,
   "id": "f297d67b-05c8-4e1b-ad9f-7bee04dd1700",
   "metadata": {},
   "outputs": [],
   "source": [
    "import pickle\n",
    "import streamlit as st\n",
    "import pandas as pd\n",
    "import numpy as np\n",
    "import warnings\n",
    "warnings.filterwarnings('ignore')"
   ]
  },
  {
   "cell_type": "code",
   "execution_count": 2,
   "id": "0783d5ca-3ec2-4ffd-94ed-86d3a565ad76",
   "metadata": {},
   "outputs": [
    {
     "name": "stderr",
     "output_type": "stream",
     "text": [
      "2024-12-02 03:22:37.844 \n",
      "  \u001b[33m\u001b[1mWarning:\u001b[0m to view this Streamlit app on a browser, run it with the following\n",
      "  command:\n",
      "\n",
      "    streamlit run C:\\Users\\HP\\anaconda3\\Lib\\site-packages\\ipykernel_launcher.py [ARGUMENTS]\n"
     ]
    },
    {
     "data": {
      "text/plain": [
       "DeltaGenerator()"
      ]
     },
     "execution_count": 2,
     "metadata": {},
     "output_type": "execute_result"
    }
   ],
   "source": [
    "st.title('Book Recommendation System')  ## adding title"
   ]
  },
  {
   "cell_type": "code",
   "execution_count": 3,
   "id": "79a0805f-f3c2-4d97-86e8-7ff94cd145a8",
   "metadata": {},
   "outputs": [],
   "source": [
    "## loading the files\n",
    "df_new=pickle.load(open('df_new.pkl','rb'))\n",
    "df=pickle.load(open('df.pkl','rb'))\n",
    "similarity_scores=pickle.load(open('similarity_scores.pkl','rb'))"
   ]
  },
  {
   "cell_type": "code",
   "execution_count": 4,
   "id": "67ca89f8-e32d-400c-b985-01f437d60ec5",
   "metadata": {},
   "outputs": [],
   "source": [
    "## defining the function\n",
    "def recommend(book_name):\n",
    "    # fetch the index of the book from the pivot table\n",
    "    index=np.where(df_new.index==book_name)[0][0]\n",
    "    # getting similar suggestions with greater similarity score,\n",
    "    similar_items=sorted(list(enumerate(similarity_scores[index])), # enumerate to get the distance with index\n",
    "                         key=lambda x:x[1],  # key=lambda x:x[1] is used to sort the list of based on the similarity score, not on the basis of index\n",
    "                         reverse=True)[1:6]  # 1:6 will get the books excluding that book as the similarity score of a book with itself is highest\n",
    "    \n",
    "    data=[]\n",
    "    for i in similar_items:\n",
    "        item=[]\n",
    "        temp_df=df[df['Book']==df_new.index[i[0]]] # df_new.index[i[0]]] to get the index of the books\n",
    "        item.extend(list(temp_df.drop_duplicates('Book')['Book'].values))\n",
    "        item.extend(list(temp_df.drop_duplicates('Book')['Author'].values))\n",
    "        item.extend(list(temp_df.drop_duplicates('Book')['Genre'].values))\n",
    "        item.extend(list(temp_df.drop_duplicates('Book')['Award Name'].values))\n",
    "                            \n",
    "        data.append(item)\n",
    "    return pd.DataFrame(data,columns=['Book','Author','Genre','Award Name'])"
   ]
  },
  {
   "cell_type": "code",
   "execution_count": 5,
   "id": "a148d792-939d-407e-a668-3c51d14ea935",
   "metadata": {},
   "outputs": [],
   "source": [
    "book_list=df_new.index.values"
   ]
  },
  {
   "cell_type": "code",
   "execution_count": 6,
   "id": "51e87f91-5214-402a-9c09-e21d0b59cf34",
   "metadata": {},
   "outputs": [],
   "source": [
    "selected_book=st.selectbox('Type or select a book from the dropdown',book_list)"
   ]
  },
  {
   "cell_type": "code",
   "execution_count": 7,
   "id": "7f1a9bcd-0d1f-490a-bbcd-98e0de4491b9",
   "metadata": {},
   "outputs": [],
   "source": [
    "if st.button('Show Recommendation'):\n",
    "    recommended_books=recommend(selected_book)\n",
    "    recommended_books"
   ]
  },
  {
   "cell_type": "code",
   "execution_count": 8,
   "id": "4b5323d5-9c5a-46da-9040-8803a21515b9",
   "metadata": {},
   "outputs": [
    {
     "data": {
      "text/plain": [
       "DeltaGenerator()"
      ]
     },
     "execution_count": 8,
     "metadata": {},
     "output_type": "execute_result"
    }
   ],
   "source": [
    "st.header(\"Top 10 popular books based on ratings\")"
   ]
  },
  {
   "cell_type": "code",
   "execution_count": 9,
   "id": "29e9e74e-b12b-42e7-9444-73ab9b5d2cad",
   "metadata": {},
   "outputs": [],
   "source": [
    "df1_new1=pickle.load(open('df1_new1.pkl','rb'))"
   ]
  },
  {
   "cell_type": "code",
   "execution_count": 10,
   "id": "300a2e1e-2c77-4dc2-a111-1b003ced65a0",
   "metadata": {},
   "outputs": [
    {
     "data": {
      "text/plain": [
       "DeltaGenerator()"
      ]
     },
     "execution_count": 10,
     "metadata": {},
     "output_type": "execute_result"
    }
   ],
   "source": [
    "st.dataframe(df1_new1)"
   ]
  },
  {
   "cell_type": "code",
   "execution_count": 11,
   "id": "2c6d9861-abdf-49ea-af7b-a57fc9be935c",
   "metadata": {},
   "outputs": [
    {
     "data": {
      "text/plain": [
       "DeltaGenerator()"
      ]
     },
     "execution_count": 11,
     "metadata": {},
     "output_type": "execute_result"
    }
   ],
   "source": [
    "st.header(\"Top 10 books offering maximum discount\")"
   ]
  },
  {
   "cell_type": "code",
   "execution_count": 12,
   "id": "7bcaa302-f838-4471-a95d-0ed570d65194",
   "metadata": {},
   "outputs": [],
   "source": [
    "df2_new1=pickle.load(open('df2_new1.pkl','rb'))"
   ]
  },
  {
   "cell_type": "code",
   "execution_count": 13,
   "id": "c31ff6cf-829d-476c-8c83-010ca5072dab",
   "metadata": {},
   "outputs": [
    {
     "data": {
      "text/plain": [
       "DeltaGenerator()"
      ]
     },
     "execution_count": 13,
     "metadata": {},
     "output_type": "execute_result"
    }
   ],
   "source": [
    "st.dataframe(df2_new1)"
   ]
  },
  {
   "cell_type": "code",
   "execution_count": 14,
   "id": "56357a4c-9ae0-41f5-8be3-c470ff1640a7",
   "metadata": {},
   "outputs": [
    {
     "data": {
      "text/plain": [
       "DeltaGenerator()"
      ]
     },
     "execution_count": 14,
     "metadata": {},
     "output_type": "execute_result"
    }
   ],
   "source": [
    "st.header(\"Top 10 books at least price\")"
   ]
  },
  {
   "cell_type": "code",
   "execution_count": 15,
   "id": "3bef8e7e-b7e8-4e31-89c1-ee1ac3800f7e",
   "metadata": {},
   "outputs": [],
   "source": [
    "df3_new1=pickle.load(open('df3_new1.pkl','rb'))"
   ]
  },
  {
   "cell_type": "code",
   "execution_count": 16,
   "id": "91d207e5-4d22-43a8-94cf-4dbfca35414e",
   "metadata": {},
   "outputs": [
    {
     "data": {
      "text/plain": [
       "DeltaGenerator()"
      ]
     },
     "execution_count": 16,
     "metadata": {},
     "output_type": "execute_result"
    }
   ],
   "source": [
    "st.dataframe(df3_new1)"
   ]
  },
  {
   "cell_type": "code",
   "execution_count": 17,
   "id": "14bb9625-a923-4f5b-b0e1-3090aa304ecd",
   "metadata": {},
   "outputs": [
    {
     "data": {
      "text/plain": [
       "DeltaGenerator()"
      ]
     },
     "execution_count": 17,
     "metadata": {},
     "output_type": "execute_result"
    }
   ],
   "source": [
    "st.header(\"Top 10 books by maximum checkouts\")"
   ]
  },
  {
   "cell_type": "code",
   "execution_count": 18,
   "id": "f0bd4514-2c5c-4ed1-ab4b-099ab16d51d4",
   "metadata": {},
   "outputs": [],
   "source": [
    "df4_new1=pickle.load(open('df4_new1.pkl','rb'))"
   ]
  },
  {
   "cell_type": "code",
   "execution_count": 19,
   "id": "2d40d8b7-a849-49d6-9310-5bcac7307c1d",
   "metadata": {},
   "outputs": [
    {
     "data": {
      "text/plain": [
       "DeltaGenerator()"
      ]
     },
     "execution_count": 19,
     "metadata": {},
     "output_type": "execute_result"
    }
   ],
   "source": [
    "st.dataframe(df4_new1)"
   ]
  },
  {
   "cell_type": "code",
   "execution_count": null,
   "id": "74498ede-be3d-497d-a96c-fd8cdd5281c3",
   "metadata": {},
   "outputs": [],
   "source": []
  }
 ],
 "metadata": {
  "kernelspec": {
   "display_name": "Python 3 (ipykernel)",
   "language": "python",
   "name": "python3"
  },
  "language_info": {
   "codemirror_mode": {
    "name": "ipython",
    "version": 3
   },
   "file_extension": ".py",
   "mimetype": "text/x-python",
   "name": "python",
   "nbconvert_exporter": "python",
   "pygments_lexer": "ipython3",
   "version": "3.12.4"
  }
 },
 "nbformat": 4,
 "nbformat_minor": 5
}
